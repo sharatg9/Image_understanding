{
  "nbformat": 4,
  "nbformat_minor": 0,
  "metadata": {
    "kernelspec": {
      "display_name": "Python 2",
      "language": "python",
      "name": "python2"
    },
    "language_info": {
      "codemirror_mode": {
        "name": "ipython",
        "version": 2
      },
      "file_extension": ".py",
      "mimetype": "text/x-python",
      "name": "python",
      "nbconvert_exporter": "python",
      "pygments_lexer": "ipython2",
      "version": "2.7.12"
    },
    "colab": {
      "name": "Exercise-1-2-NumPyPlt.ipynb",
      "provenance": [],
      "include_colab_link": true
    }
  },
  "cells": [
    {
      "cell_type": "markdown",
      "metadata": {
        "id": "view-in-github",
        "colab_type": "text"
      },
      "source": [
        "<a href=\"https://colab.research.google.com/github/sharatg9/Image_understanding/blob/master/Exercise_1_2_NumPyPlt.ipynb\" target=\"_parent\"><img src=\"https://colab.research.google.com/assets/colab-badge.svg\" alt=\"Open In Colab\"/></a>"
      ]
    },
    {
      "cell_type": "markdown",
      "metadata": {
        "id": "dpUNmnklFAN2",
        "colab_type": "text"
      },
      "source": [
        "# Computer Vision \n",
        "\n",
        "# Exercise 1: Introduction To Python, NumPy And Matplotlib\n",
        "\n",
        "- TU Chemnitz\n",
        "    - Fak. für Informatik\n",
        "        - Professur Künstliche Intelligenz\n",
        "            - Lehre\n",
        "                - Bildverstehen\n",
        "     \n",
        "Contact:\n",
        "* julien dot vitay at informatik dot tu-chemnitz dot de\n",
        "* abbas dot al-ali at informatik dot tu-chemnitz dot de\n",
        "\n",
        "Course web page:\n",
        "[https://www.tu-chemnitz.de/informatik/KI/edu/biver/](https://www.tu-chemnitz.de/informatik/KI/edu/biver/)"
      ]
    },
    {
      "cell_type": "markdown",
      "metadata": {
        "id": "ilhaIDSMFAN7",
        "colab_type": "text"
      },
      "source": [
        "## Exercise 1-2: Introduction To NumPy And Matplotlib\n",
        "\n",
        "## 1. NumPy Numerical Library\n",
        "- NumPy is a linear algebra library written in Python.\n",
        "- The reference manual is at [http://docs.scipy.org/doc](http://docs.scipy.org/doc)\n",
        "- A nice tutorial can be found at [https://docs.scipy.org/doc/numpy/user/quickstart.html](https://docs.scipy.org/doc/numpy/user/quickstart.html)\n",
        "- A detailed list of all available functions (with examples) is at [https://docs.scipy.org/doc/numpy/reference/routines.html](https://docs.scipy.org/doc/numpy/reference/routines.html)\n",
        "- If you already know Matlab, a comparison is at [https://docs.scipy.org/doc/numpy/user/numpy-for-matlab-users.html](https://docs.scipy.org/doc/numpy/user/numpy-for-matlab-users.html)"
      ]
    },
    {
      "cell_type": "markdown",
      "metadata": {
        "id": "rn75o6nvFAN9",
        "colab_type": "text"
      },
      "source": [
        "Importing the library\n",
        "\n",
        "- You can write at the beginning of your script:\n",
        "```python\n",
        "from numpy import *\n",
        "```\n",
        "- All the a vailables functions are then imported into your working space.\n",
        "- It is often better to keep a short namespace, as it could overload other library definitions:\n",
        "```python\n",
        "import numpy as np \n",
        "```\n",
        "- You can get help on any NumPy function:\n",
        "```python\n",
        "help(np.array)\n",
        "help(np.ndarray.transpose)\n",
        "```"
      ]
    },
    {
      "cell_type": "markdown",
      "metadata": {
        "id": "gQLvZz4IFAOA",
        "colab_type": "text"
      },
      "source": [
        "### 1.A. Vectors And Matrices\n",
        "\n",
        "-   The basic object in NumPy is an array with d-dimensions (1 = vector,2 = matrix, etc...). They can store either integers or floats.\n",
        "\n",
        "-   In order to create a vector of three floats, you simply have to call the `array()` method giving the list of the floats as input:\n",
        "\n",
        "```python\n",
        "list_of_floats =  [ 1., 2., 3.]\n",
        "V = np.array( list_of_floats )\n",
        "```\n",
        "\n",
        "- Each initial element of the vector has to be given inside a Python list. For a 3*4 matrix of 8 bits unsigned integers, it is:\n",
        "\n",
        "```python\n",
        "list_of_lists = [ [ 1, 2, 3, 4],[ 5, 6, 7, 8],[ 4, 3, 2, 1] ]\n",
        "M = np.array( list_of_lists , dtype=np.uint8)\n",
        "```\n",
        "\n",
        "- Most of the time you don't care about the type in Python (the default floating-point precision is what you want), but if you need it, you can always specify it with the parameter dtype={int32, uint16, float64, ...}.\n",
        "\n",
        "- Matrices should be initialized with a list of lists. The elements of the array are internally stored in a sequence, so you can easily reshape vectors or matrices using the `reshape()` method. The `shape` propertey gives the shape of an array, `dtype` its associated data type.\n"
      ]
    },
    {
      "cell_type": "markdown",
      "metadata": {
        "id": "LHd3OxJgFAOC",
        "colab_type": "text"
      },
      "source": [
        "### 1.B. Attributes Of An Array\n",
        "\n",
        "The following attributes of an array can be accessed:\n",
        "\n",
        "- `A.shape` : returns the shape of the vector or matrix (row, column)\n",
        "\n",
        "- `A.size` : returns the total number of elements in the array\n",
        "\n",
        "- `A.ndim` : returns the number of dimensions of the array (vector: 1, matrix:2)\n",
        "\n",
        "- `A.dtype.name` : returns the type of data stored in the array (int32, uint16, float64...)\n",
        "\n",
        "- `A.itemsize` : returns the size in bytes of each element."
      ]
    },
    {
      "cell_type": "markdown",
      "metadata": {
        "id": "LLgLFBKBFAOE",
        "colab_type": "text"
      },
      "source": [
        "Run the following cells and watch the results. Change the values, type or the number of the elements and run again."
      ]
    },
    {
      "cell_type": "code",
      "metadata": {
        "id": "h3gTRjQqFAOF",
        "colab_type": "code",
        "colab": {
          "base_uri": "https://localhost:8080/",
          "height": 106
        },
        "outputId": "11dc286a-2699-4e2b-dc5f-1bc558c945a6"
      },
      "source": [
        "from __future__ import print_function\n",
        "import numpy as np\n",
        "\n",
        "list_of_floats =  [ 1., 2., 3.]\n",
        "V = np.array( list_of_floats )\n",
        "\n",
        "print('Type of elements in V is :',V.dtype)\n",
        "print('Type of V.shape is :',type(V.shape))\n",
        "print('Shape of V is :',V.shape)\n",
        "print('V is:')\n",
        "print(V)"
      ],
      "execution_count": 1,
      "outputs": [
        {
          "output_type": "stream",
          "text": [
            "Type of elements in V is : float64\n",
            "Type of V.shape is : <type 'tuple'>\n",
            "Shape of V is : (3,)\n",
            "V is:\n",
            "[1. 2. 3.]\n"
          ],
          "name": "stdout"
        }
      ]
    },
    {
      "cell_type": "code",
      "metadata": {
        "id": "bSmBrZshFAOM",
        "colab_type": "code",
        "colab": {}
      },
      "source": [
        "list_of_lists = [ [ 1, 2, 3, 4],[ 5, 6, 7, 8],[ 4, 3, 2, 1] ]\n",
        "M = np.array( list_of_lists , dtype=np.uint8)\n",
        "# do the same with M\n",
        "\n",
        "print('Type of elements in M is :', ...\n",
        "...\n",
        "\n",
        "..."
      ],
      "execution_count": 0,
      "outputs": []
    },
    {
      "cell_type": "code",
      "metadata": {
        "id": "RVjwfPnuFAOQ",
        "colab_type": "code",
        "colab": {}
      },
      "source": [
        "A = np.array([ 1, 2, 3, 4, 5, 6, 7, 8])\n",
        "print('Shape of A is :',A.shape)\n",
        "print('A is:')\n",
        "print(A)\n",
        "\n",
        "print('\\nA.reshape(2,4):\\n',A.reshape(2,4))\n",
        "print('\\nA:\\n',A)\n",
        "\n",
        "B = A.reshape(2,4)\n",
        "print('\\nB:\\n',B)\n",
        "print('\\nA:\\n',A)\n",
        "\n",
        "B.shape = (8,1)\n",
        "print('\\nB:\\n',B)\n",
        "print('\\nA:\\n',A)"
      ],
      "execution_count": 0,
      "outputs": []
    },
    {
      "cell_type": "markdown",
      "metadata": {
        "id": "nhp8ZyMyFAOY",
        "colab_type": "text"
      },
      "source": [
        "### 1.C. Initialization Of An Array\n",
        "\n",
        "Here are some specific initializations for vectors/matrices:"
      ]
    },
    {
      "cell_type": "code",
      "metadata": {
        "id": "Qz0bbgagFAOa",
        "colab_type": "code",
        "colab": {}
      },
      "source": [
        "# A 2*3 matrix filled with 0.0\n",
        "A = np.zeros((2,3))  \n",
        "\n",
        "# A vector of 12 elements initialized to 1.0\n",
        "B = np.ones(12,dtype=np.int)  \n",
        "\n",
        "# A vector of 11 elements whose value linearly\n",
        "# increases from 0.0 to 1.0\n",
        "C = np.linspace(0.0, 1.0, 11) \n",
        "\n",
        "# A 2*5 matrix with values randomly taken \n",
        "# from an uniform distribution between 0.0 and 1.0.\n",
        "D = np.random.uniform(0.0, 1.0, (2, 5)) \n",
        "\n",
        "# A 3*5 matrix with values randomly taken from\n",
        "# a normal (gaussian) distribution \n",
        "# with a mean of 0.5 and standard deviation of 1.0.\n",
        "E = np.random.normal(0.5, 1.0, (3, 5)) \n",
        "\n",
        "# A 2*4*3 array (two 4*3 pages)\n",
        "F = np.arange(24).reshape((2,4,3))\n",
        "\n",
        "print('\\n',A)\n",
        "print('\\n',B)\n",
        "print('\\n',C)\n",
        "print('\\n',D)\n",
        "print('\\n',E)\n",
        "print('\\n',F[1,:,:])"
      ],
      "execution_count": 0,
      "outputs": []
    },
    {
      "cell_type": "markdown",
      "metadata": {
        "id": "1P1icyL-FAOg",
        "colab_type": "text"
      },
      "source": [
        "### 1.D. Manipulation Of Matrices: Indices, Slices\n",
        "\n",
        "- To access a particular element of a matrix, you can use the usual Python list style (the first element has a rank of 0):"
      ]
    },
    {
      "cell_type": "code",
      "metadata": {
        "id": "BNVTIJTqFAOh",
        "colab_type": "code",
        "colab": {}
      },
      "source": [
        "#A = np.arange(1,13).reshape((3,4))\n",
        "A = np.array([ \n",
        "        [ 1, 2 , 3 , 4 ],\n",
        "        [ 5, 6 , 7 , 8 ],\n",
        "        [ 9, 10, 11, 12]])\n",
        "\n",
        "print('\\n',A)\n",
        "\n",
        "B = A[0, 2] \n",
        "C = A[:, 1] \n",
        "D = A[:, 1:3] \n",
        "E = A[-1,:] \n",
        "\n",
        "print('\\n',B)\n",
        "print('\\n',C)\n",
        "print('\\n',D)\n",
        "print('\\n',E)\n",
        "\n",
        "# on the left side\n",
        "A[0,0] = -1\n",
        "A[2,-1:0:-1] = A[:,0]\n",
        "A[:,-1] = [100,200,300]\n",
        "print('\\n',A)"
      ],
      "execution_count": 0,
      "outputs": []
    },
    {
      "cell_type": "markdown",
      "metadata": {
        "id": "cq3u5Rv3FAOl",
        "colab_type": "text"
      },
      "source": [
        "- To perform conditional manipulation of matrix content, one can retrieve the indices easily:"
      ]
    },
    {
      "cell_type": "code",
      "metadata": {
        "id": "VBiaSmE4FAOm",
        "colab_type": "code",
        "colab": {}
      },
      "source": [
        "A = np.array( \n",
        "    [ [ -2,  2,  1, -4],\n",
        "      [  3, -1, -5, -3] ])\n",
        "negatives = A < 0\n",
        "A[negatives] = 0\n",
        "\n",
        "print(negatives)\n",
        "print(A)\n",
        "\n",
        "# or simply\n",
        "#A[A < 0] = 0\n",
        "#print(A)"
      ],
      "execution_count": 0,
      "outputs": []
    },
    {
      "cell_type": "markdown",
      "metadata": {
        "id": "k9IWDGGJFAOq",
        "colab_type": "text"
      },
      "source": [
        "### 1.E. Basic Linear Algebra \n",
        "\n",
        "- Let's define some matrices:"
      ]
    },
    {
      "cell_type": "code",
      "metadata": {
        "id": "ciZZH_fJFAOr",
        "colab_type": "code",
        "colab": {}
      },
      "source": [
        "A = np.array( [ [ 1, 2, 3, 4],\n",
        "                [ 5, 6, 7, 8] ])\n",
        "\n",
        "B = np.array( [ [ 1, 2],\n",
        "                [ 3, 4],\n",
        "                [ 5, 6],\n",
        "                [ 7, 8] ])\n",
        "\n",
        "C = np.array( [ [  1,  2,  3,  4],\n",
        "                [  5,  6,  7,  8],\n",
        "                [  9, 10, 11, 12],\n",
        "                [ 13, 14, 15, 16] ])"
      ],
      "execution_count": 0,
      "outputs": []
    },
    {
      "cell_type": "markdown",
      "metadata": {
        "id": "LCMfGRDJFAOv",
        "colab_type": "text"
      },
      "source": [
        "#### 1.E.a. Transpose A Matrix \n",
        "\n",
        "- A matrix can be transposed with the `transpose()` method or the `.T` shortcut:"
      ]
    },
    {
      "cell_type": "code",
      "metadata": {
        "id": "7NwIlY1aFAOx",
        "colab_type": "code",
        "colab": {}
      },
      "source": [
        "D = A.transpose() \n",
        "E = A.T # equivalent but simpler\n",
        "\n",
        "print(A)\n",
        "print('\\n',D)\n",
        "print('\\n',E)"
      ],
      "execution_count": 0,
      "outputs": []
    },
    {
      "cell_type": "markdown",
      "metadata": {
        "id": "Zo5PEAoNFAO0",
        "colab_type": "text"
      },
      "source": [
        "- `transpose()` does not change `A`, only the returns a transposed copy. To change `A` use am assigment `A = A.T`"
      ]
    },
    {
      "cell_type": "markdown",
      "metadata": {
        "id": "YNYCOGw9FAO1",
        "colab_type": "text"
      },
      "source": [
        "#### 1.E.b. Multiply Two Matrices \n",
        "\n",
        "- element-wise: Two arrays of **exactly** the same size can be multiplied *element-wise* by using the `*` operator.\n",
        "\n",
        "- algebrically: To perform a **matrix multiplication**, you have to use the `dot()` method.\n",
        "    + One dimension must match! `(m, n) * (n, p) = (m, p)`"
      ]
    },
    {
      "cell_type": "code",
      "metadata": {
        "id": "xclztk6BFAO3",
        "colab_type": "code",
        "colab": {}
      },
      "source": [
        "A = np.array( [ [ 1, 2, 3, 4],\n",
        "                [ 5, 6, 7, 8] ])\n",
        "B = np.array( [ [ 1, 2],\n",
        "                [ 3, 4],\n",
        "                [ 5, 6],\n",
        "                [ 7, 8] ])\n",
        "C = A * B.T\n",
        "D = A.T * B\n",
        "\n",
        "print(C)\n",
        "print('\\n',D)\n",
        "\n",
        "E = np.dot(A, B)\n",
        "F = np.dot(B, A)\n",
        "\n",
        "print('\\n',E)\n",
        "print('\\n',F)\n"
      ],
      "execution_count": 0,
      "outputs": []
    },
    {
      "cell_type": "markdown",
      "metadata": {
        "id": "KCwsN0_SFAO6",
        "colab_type": "text"
      },
      "source": [
        "#### 1.E.c. Inversing A Matrix\n",
        "\n",
        "- Inversing a Matrix (when possible) can be done using the `inv()` method whitch is defined in the `linalg` submodule of NumPy."
      ]
    },
    {
      "cell_type": "code",
      "metadata": {
        "id": "VNR4WmNuFAO8",
        "colab_type": "code",
        "colab": {}
      },
      "source": [
        "A = np.array( [ [  1,  2,  3,  4],\n",
        "                [  5,  6,  7,  8],\n",
        "                [  9, 10, 11, 12],\n",
        "                [ 13, 14, 15, 16] ])\n",
        "\n",
        "A_INV = np.linalg.inv(A)\n",
        "print(A_INV)\n",
        "print(np.dot(A,A_INV))\n",
        "\n",
        "print(np.linalg.det(A))\n",
        "\n",
        "A = np.array( [ [  1,  2],\n",
        "                [  5,  6]])\n",
        "\n",
        "A_INV = np.linalg.inv(A)\n",
        "print(A_INV)\n",
        "print(np.dot(A,A_INV))\n",
        "\n",
        "print(np.linalg.det(A))"
      ],
      "execution_count": 0,
      "outputs": []
    },
    {
      "cell_type": "markdown",
      "metadata": {
        "id": "jvd9aTfqFAO_",
        "colab_type": "text"
      },
      "source": [
        "### 1.F. Summing Elements \n",
        "\n",
        "- One can sum the elements of a matrix globally, row-wise or column-wise:"
      ]
    },
    {
      "cell_type": "code",
      "metadata": {
        "id": "b1pCEz8UFAPA",
        "colab_type": "code",
        "colab": {}
      },
      "source": [
        "A = np.array( [ [ 1, 2, 3, 4],\n",
        "                [ 5, 6, 7, 8] ])\n",
        "\n",
        "# Globally\n",
        "S1 = np.sum(A)\n",
        "\n",
        "# Per column\n",
        "S2 = np.sum(A, axis=0) \n",
        "\n",
        "# Per row\n",
        "S3 = np.sum(A, axis=1) \n",
        "\n",
        "print(S1);print(S2);print(S3)\n"
      ],
      "execution_count": 0,
      "outputs": []
    },
    {
      "cell_type": "markdown",
      "metadata": {
        "id": "KpszPc3VFAPD",
        "colab_type": "text"
      },
      "source": [
        "### 1.G. Mathematical Operations \n",
        "\n",
        "- You can apply any usual mathematical operations (cos, sin, exp, etc...) on each element of a matrix:"
      ]
    },
    {
      "cell_type": "code",
      "metadata": {
        "id": "eW-kadgPFAPE",
        "colab_type": "code",
        "colab": {}
      },
      "source": [
        "A = np.array( [ [ 1, 2, 3, 4],\n",
        "                [ 5, 6, 7, 8] ])\n",
        "B = np.exp(A)\n",
        "C = np.cos(A)\n",
        "D = np.log(A)\n",
        "E = (A+3) * np.cos(A-2)\n",
        "\n",
        "print(B);print('\\n',C);print('\\n',D);print('\\n',E)"
      ],
      "execution_count": 0,
      "outputs": []
    },
    {
      "cell_type": "markdown",
      "metadata": {
        "id": "DYNy3gCSFAPH",
        "colab_type": "text"
      },
      "source": [
        "## 2. Matplotlib\n",
        "\n",
        "- Matplotlib is a python 2D plotting library which produces publication quality figures in a variety of hardcopy formats and interactive environments across platforms.\n",
        "\n",
        "![](img/matplotlib.png)\n",
        "\n",
        "- Reference: <http://matplotlib.org>\n",
        "\n",
        "- Tutorial by N. Rougier: <http://www.labri.fr/perso/nrougier/teaching/matplotlib>\n",
        "\n",
        "- Simply imported with :\n",
        "\n",
        "```python\n",
        "import matplotlib.pyplot as plt\n",
        "```\n",
        "\n",
        "- In the B202, one has to explicitly specify the backend:"
      ]
    },
    {
      "cell_type": "code",
      "metadata": {
        "id": "RY7eUJ8tFAPI",
        "colab_type": "code",
        "colab": {}
      },
      "source": [
        "import matplotlib\n",
        "matplotlib.use('TKAgg')\n",
        "import matplotlib.pyplot as plt"
      ],
      "execution_count": 0,
      "outputs": []
    },
    {
      "cell_type": "markdown",
      "metadata": {
        "id": "v_xYE7xCFAPM",
        "colab_type": "text"
      },
      "source": [
        "### 2.A. Plotting The Graph Of A Function\n",
        "\n",
        "- The `plot` command allows to make simple line drawings:"
      ]
    },
    {
      "cell_type": "code",
      "metadata": {
        "id": "7qy_DXr6FAPN",
        "colab_type": "code",
        "colab": {}
      },
      "source": [
        "# prepare the data\n",
        "X = np.linspace(0., 10., 100)\n",
        "Y = X**2 + 1.\n",
        "\n",
        "# then plot them\n",
        "plt.plot(X, Y, '-')\n",
        "plt.show()"
      ],
      "execution_count": 0,
      "outputs": []
    },
    {
      "cell_type": "markdown",
      "metadata": {
        "id": "rVEe8nULFAPQ",
        "colab_type": "text"
      },
      "source": [
        "- `plot()` takes two vectors X and Y and a style (here a line '-', but colored dots are possible).\n",
        "\n",
        "- The call to `show()` is obligatory at the end to display the window!"
      ]
    },
    {
      "cell_type": "markdown",
      "metadata": {
        "id": "SFfXfwjlFAPQ",
        "colab_type": "text"
      },
      "source": [
        "### 2.B. Nicer Axes"
      ]
    },
    {
      "cell_type": "code",
      "metadata": {
        "id": "pFOI_9_lFAPR",
        "colab_type": "code",
        "colab": {}
      },
      "source": [
        "import numpy as np\n",
        "import matplotlib.pyplot as plt\n",
        "\n",
        "X = np.linspace(0., 10., 100)\n",
        "Y = X**2 + 1.\n",
        "\n",
        "plt.plot(X, Y, '-')\n",
        "plt.title('A quadratic function of x')\n",
        "plt.xlabel('x')\n",
        "plt.ylabel('$y = x^2 + 1$')\n",
        "plt.show()"
      ],
      "execution_count": 0,
      "outputs": []
    },
    {
      "cell_type": "markdown",
      "metadata": {
        "id": "OEFf5DuoFAPW",
        "colab_type": "text"
      },
      "source": [
        "### 2.C. Two Plots With A Legend"
      ]
    },
    {
      "cell_type": "code",
      "metadata": {
        "id": "xbvxz6XjFAPX",
        "colab_type": "code",
        "colab": {}
      },
      "source": [
        "import numpy as np\n",
        "import matplotlib.pyplot as plt\n",
        "\n",
        "X = np.linspace(0., 10., 100)\n",
        "Y = X**2 + 1.\n",
        "Z = 100./(X**2 + 1.)\n",
        "\n",
        "plt.plot(X, Y, '-', label='y')\n",
        "plt.plot(X, Z, '-', label='z')\n",
        "plt.title('Two functions of x')\n",
        "plt.xlabel('x')\n",
        "plt.ylabel('y and z')\n",
        "plt.legend()\n",
        "plt.show()"
      ],
      "execution_count": 0,
      "outputs": []
    },
    {
      "cell_type": "markdown",
      "metadata": {
        "id": "98zruzriFAPZ",
        "colab_type": "text"
      },
      "source": [
        "### 2.D. Two Plots Side By Side"
      ]
    },
    {
      "cell_type": "code",
      "metadata": {
        "id": "ToccNrxkFAPa",
        "colab_type": "code",
        "colab": {}
      },
      "source": [
        "import numpy as np\n",
        "import matplotlib.pyplot as plt\n",
        "\n",
        "X = np.linspace(0., 10., 100)\n",
        "Y = X**2 + 1.\n",
        "Z = 100./(X**2 + 1.)\n",
        "\n",
        "plt.subplot(121)\n",
        "plt.plot(X, Y, '-', label='y')\n",
        "plt.xlabel('x')\n",
        "plt.ylabel('y')\n",
        "plt.subplot(122)\n",
        "plt.plot(X, Z, '-', label='z')\n",
        "plt.xlabel('x')\n",
        "plt.ylabel('z')\n",
        "plt.show()"
      ],
      "execution_count": 0,
      "outputs": []
    },
    {
      "cell_type": "markdown",
      "metadata": {
        "id": "EErYj6WGFAPe",
        "colab_type": "text"
      },
      "source": [
        "### 2.E. Plotting Matrices / Images\n",
        "\n",
        "- Matrices can be displayed using `imshow()`\n",
        "\n",
        "- You can choose the color code with the `cmap` argument.\n",
        "\n",
        "- The interpolation method can also be selected for small matrices (`interpolation=\"bicubic\"`).\n",
        "\n",
        "- (0, 0) is at the top-left of the image, the first axis is vertical. Change it with the `origin` parameter."
      ]
    },
    {
      "cell_type": "code",
      "metadata": {
        "id": "63gPFWrqFAPf",
        "colab_type": "code",
        "colab": {}
      },
      "source": [
        "import numpy as np\n",
        "import matplotlib.pyplot as plt\n",
        "\n",
        "img = np.random.uniform(0., 1., (600, 800))\n",
        "\n",
        "plt.imshow(img, cmap=plt.cm.gray)\n",
        "plt.show()"
      ],
      "execution_count": 0,
      "outputs": []
    },
    {
      "cell_type": "markdown",
      "metadata": {
        "id": "aJ0UejYDFAPh",
        "colab_type": "text"
      },
      "source": [
        "## 3. Exercises\n",
        "\n",
        "### 3.A. Basic Linear Algebra\n",
        "\n",
        "-   Write the following system of equations in the matrix form ($A \\cdot X = B$) and solve it using NumPy. Check that it worked.\n",
        "\n",
        "$$\n",
        "\\begin{cases}\n",
        "\\begin{array}{lll}\n",
        "2\\cdot x_1 + x_2+ x_3 & = & 9 \\\\\n",
        "x_1 + 2\\cdot x_2 + x_4 & = & 8 \\\\\n",
        "x_1 + 2\\cdot x_2 + 3\\cdot x_3 +2 \\cdot x_4 & = & 7 \\\\\n",
        "2\\cdot x_2 + x_3 +2 \\cdot x_4 & = & 6 \\\\\n",
        "\\end{array}\n",
        "\\end{cases}\n",
        "$$\n",
        "\n",
        "\n",
        "-   What are the eigenvalues and eigenvectors of the matrix A defined\n",
        "    above? (tip: read the doc for the function `np.linalg.eigh`)\n",
        "\n",
        "### 3.B Rotation Of A Vector\n",
        "\n",
        "-   Write a function that rotates a 2D vector by an angle $\\theta$.\n",
        "\n",
        "$$\\begin{bmatrix} \n",
        "    x' \\\\ \n",
        "    y' \n",
        "\\end{bmatrix} = \\begin{bmatrix} \n",
        "                    \\cos \\theta & -\\sin \\theta \\\\ \n",
        "                    \\sin \\theta & \\cos \\theta \n",
        "                \\end{bmatrix} \n",
        "                \\cdot \n",
        "                \\begin{bmatrix} \n",
        "                    x \\\\ \n",
        "                    y \n",
        "                \\end{bmatrix}$$"
      ]
    }
  ]
}